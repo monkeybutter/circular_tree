{
 "cells": [
  {
   "cell_type": "code",
   "execution_count": 58,
   "metadata": {
    "collapsed": false
   },
   "outputs": [],
   "source": [
    "import pandas as pd\n",
    "\n",
    "df = pd.read_csv(\"/Users/pablo/Downloads/2008.csv\")\n",
    "df = df[df[\"Dest\"] == 'JFK']\n",
    "df[\"Date\"] = pd.to_datetime(df.Year*100000000+df.Month*1000000+df.DayofMonth*10000+df.CRSArrTime, format='%Y%m%d%H%M')\n",
    "#df[\"Date\"] = pd.to_datetime(\"{y}{m:02d}{d:02d}\".format(y=df.Year, m=df.Month, d=df.DayofMonth), format='%Y%m%d')\n",
    "drop_list = [\"FlightNum\", \"DepTime\", \"ArrTime\", \"UniqueCarrier\", \"FlightNum\", \"Cancelled\", \n",
    "             \"CancellationCode\", \"Diverted\", \"TailNum\", \"ActualElapsedTime\", \"AirTime\", \n",
    "             \"TaxiIn\", \"TaxiOut\", \"CRSDepTime\", \"DepDelay\", \"CarrierDelay\", \"WeatherDelay\", \n",
    "             \"NASDelay\", \"SecurityDelay\", \"LateAircraftDelay\", \"CRSElapsedTime\",\n",
    "             \"Year\", \"Month\", \"DayofMonth\", \"CRSArrTime\"]\n",
    "\n",
    "df.drop(drop_list, axis=1, inplace=True)\n",
    "\n",
    "df.dropna(axis=0, inplace=True)\n",
    "df['ctime'] = df['Date'].map(lambda x: (x.hour / 24.0) * 360)\n",
    "df['cwday'] = df['DayOfWeek'].map(lambda x: int(x / 7.0 * 360)%360)\n",
    "df['cdate'] = df['Date'].map(lambda x: (x.timetuple().tm_yday / 365.0)*360.0)\n",
    "df['cdate'] = df['cdate'].map(lambda x: int(10 * round(float(x)/10)))\n",
    "df.drop([\"DayOfWeek\", \"Origin\", \"Dest\", \"Date\"], axis=1, inplace=True)\n",
    "df = df[df[\"ArrDelay\"] > 0]"
   ]
  },
  {
   "cell_type": "code",
   "execution_count": 59,
   "metadata": {
    "collapsed": false
   },
   "outputs": [
    {
     "data": {
      "text/html": [
       "<div>\n",
       "<table border=\"1\" class=\"dataframe\">\n",
       "  <thead>\n",
       "    <tr style=\"text-align: right;\">\n",
       "      <th></th>\n",
       "      <th>ArrDelay</th>\n",
       "      <th>Distance</th>\n",
       "      <th>ctime</th>\n",
       "      <th>cwday</th>\n",
       "      <th>cdate</th>\n",
       "    </tr>\n",
       "  </thead>\n",
       "  <tbody>\n",
       "    <tr>\n",
       "      <th>129224</th>\n",
       "      <td>17</td>\n",
       "      <td>541</td>\n",
       "      <td>165</td>\n",
       "      <td>102</td>\n",
       "      <td>0</td>\n",
       "    </tr>\n",
       "    <tr>\n",
       "      <th>129920</th>\n",
       "      <td>37</td>\n",
       "      <td>541</td>\n",
       "      <td>165</td>\n",
       "      <td>154</td>\n",
       "      <td>0</td>\n",
       "    </tr>\n",
       "    <tr>\n",
       "      <th>129921</th>\n",
       "      <td>55</td>\n",
       "      <td>541</td>\n",
       "      <td>225</td>\n",
       "      <td>154</td>\n",
       "      <td>0</td>\n",
       "    </tr>\n",
       "    <tr>\n",
       "      <th>129922</th>\n",
       "      <td>22</td>\n",
       "      <td>541</td>\n",
       "      <td>330</td>\n",
       "      <td>154</td>\n",
       "      <td>0</td>\n",
       "    </tr>\n",
       "    <tr>\n",
       "      <th>130667</th>\n",
       "      <td>17</td>\n",
       "      <td>541</td>\n",
       "      <td>165</td>\n",
       "      <td>205</td>\n",
       "      <td>0</td>\n",
       "    </tr>\n",
       "  </tbody>\n",
       "</table>\n",
       "</div>"
      ],
      "text/plain": [
       "        ArrDelay  Distance  ctime  cwday  cdate\n",
       "129224        17       541    165    102      0\n",
       "129920        37       541    165    154      0\n",
       "129921        55       541    225    154      0\n",
       "129922        22       541    330    154      0\n",
       "130667        17       541    165    205      0"
      ]
     },
     "execution_count": 59,
     "metadata": {},
     "output_type": "execute_result"
    }
   ],
   "source": [
    "df.to_csv(\"/Users/pablo/github/circular_tree/datasets/delays_hope.csv\", index=False)\n",
    "\n",
    "df.head()"
   ]
  },
  {
   "cell_type": "code",
   "execution_count": 4,
   "metadata": {
    "collapsed": false
   },
   "outputs": [
    {
     "name": "stdout",
     "output_type": "stream",
     "text": [
      "   tilt  prec       rad\n",
      "0    90   180  2.000000\n",
      "1    90   180  1.993239\n",
      "2    90   180  1.986468\n",
      "3    90   180  1.979689\n",
      "4    90   180  1.972900\n"
     ]
    },
    {
     "data": {
      "image/png": "[encoded data removed]",
      "text/plain": [
       "<matplotlib.figure.Figure at 0x10ae69250>"
      ]
     },
     "metadata": {},
     "output_type": "display_data"
    },
    {
     "data": {
      "text/plain": [
       "array([180, 180, 180, ...,  20,  20,  20])"
      ]
     },
     "execution_count": 4,
     "metadata": {},
     "output_type": "execute_result"
    }
   ],
   "source": [
    "%matplotlib inline\n",
    "\n",
    "import matplotlib.pyplot as plt\n",
    "import numpy as np\n",
    "import pandas as pd\n",
    "\n",
    "def get_wave(f, A, phi, points):\n",
    "    t = np.arange(0, points, 1)\n",
    "    x = t * f\n",
    "    y = A * np.sin(2 * np.pi * x/points + phi)\n",
    "    return y, np.remainder(np.degrees(2 * np.pi * x/points + phi), 360).astype(np.int) / 10 * 10\n",
    "\n",
    "\n",
    "points = 365 * 8\n",
    "tilt, tilt_phase = get_wave(1, 2, np.pi/2, points) \n",
    "prec, prec_phase = get_wave(1.57, 2, 2*np.pi/2, points)\n",
    "\n",
    "stack = np.concatenate([tilt_phase[...,np.newaxis], prec_phase[...,np.newaxis], \n",
    "                        (tilt+prec)[...,np.newaxis]], axis=1)\n",
    "\n",
    "df = pd.DataFrame(stack, columns=['tilt', 'prec', 'rad'])\n",
    "df.to_csv(\"/Users/pablo/github/circular_tree/datasets/false_hope.csv\", \n",
    "          header=['tilt', 'prec', 'rad'], index=False)\n",
    "\n",
    "print df.head()\n",
    "\n",
    "plt.plot(np.arange(0, points, 1), tilt)\n",
    "plt.plot(np.arange(0, points, 1), prec)\n",
    "plt.plot(np.arange(0, points, 1), prec+tilt)\n",
    "plt.axis([0, 4000, -4, 4])\n",
    "plt.xlabel('time')\n",
    "plt.ylabel('amplitude')\n",
    "plt.show()\n",
    "\n",
    "prec_phase"
   ]
  },
  {
   "cell_type": "code",
   "execution_count": 44,
   "metadata": {
    "collapsed": false
   },
   "outputs": [
    {
     "ename": "TypeError",
     "evalue": "iter() returned non-iterator of type 'Data'",
     "output_type": "error",
     "traceback": [
      "\u001b[0;31m---------------------------------------------------------------------------\u001b[0m",
      "\u001b[0;31mTypeError\u001b[0m                                 Traceback (most recent call last)",
      "\u001b[0;32m<ipython-input-44-4adb853284c3>\u001b[0m in \u001b[0;36m<module>\u001b[0;34m()\u001b[0m\n\u001b[1;32m    123\u001b[0m \u001b[0md\u001b[0m \u001b[0;34m=\u001b[0m \u001b[0mData\u001b[0m\u001b[0;34m(\u001b[0m\u001b[0mdf\u001b[0m\u001b[0;34m,\u001b[0m \u001b[0mclass_var\u001b[0m\u001b[0;34m,\u001b[0m \u001b[0mvar_desc\u001b[0m\u001b[0;34m)\u001b[0m\u001b[0;34m\u001b[0m\u001b[0m\n\u001b[1;32m    124\u001b[0m \u001b[0;34m\u001b[0m\u001b[0m\n\u001b[0;32m--> 125\u001b[0;31m \u001b[0md\u001b[0m\u001b[0;34m.\u001b[0m\u001b[0mget_best_split\u001b[0m\u001b[0;34m(\u001b[0m\u001b[0;34m)\u001b[0m\u001b[0;34m\u001b[0m\u001b[0m\n\u001b[0m",
      "\u001b[0;32m<ipython-input-44-4adb853284c3>\u001b[0m in \u001b[0;36mget_best_split\u001b[0;34m(self)\u001b[0m\n\u001b[1;32m    100\u001b[0m         \u001b[0mbest_split\u001b[0m \u001b[0;34m=\u001b[0m \u001b[0;34m{\u001b[0m\u001b[0;34m'var_name'\u001b[0m\u001b[0;34m:\u001b[0m \u001b[0mNone\u001b[0m\u001b[0;34m,\u001b[0m \u001b[0;34m'score'\u001b[0m\u001b[0;34m:\u001b[0m \u001b[0;36m0.0\u001b[0m\u001b[0;34m,\u001b[0m \u001b[0;34m'index'\u001b[0m\u001b[0;34m:\u001b[0m \u001b[0;34m[\u001b[0m\u001b[0mNone\u001b[0m\u001b[0;34m,\u001b[0m \u001b[0;36m0\u001b[0m\u001b[0;34m]\u001b[0m\u001b[0;34m}\u001b[0m\u001b[0;34m\u001b[0m\u001b[0m\n\u001b[1;32m    101\u001b[0m \u001b[0;34m\u001b[0m\u001b[0m\n\u001b[0;32m--> 102\u001b[0;31m         \u001b[0;32mfor\u001b[0m \u001b[0;34m(\u001b[0m\u001b[0mvar_i\u001b[0m\u001b[0;34m,\u001b[0m \u001b[0mi\u001b[0m\u001b[0;34m,\u001b[0m \u001b[0mleft\u001b[0m\u001b[0;34m,\u001b[0m \u001b[0mright\u001b[0m\u001b[0;34m)\u001b[0m \u001b[0;32min\u001b[0m \u001b[0mself\u001b[0m\u001b[0;34m:\u001b[0m\u001b[0;34m\u001b[0m\u001b[0m\n\u001b[0m\u001b[1;32m    103\u001b[0m             \u001b[0;32mprint\u001b[0m\u001b[0;34m(\u001b[0m\u001b[0mself\u001b[0m\u001b[0;34m.\u001b[0m\u001b[0minput_vars\u001b[0m\u001b[0;34m[\u001b[0m\u001b[0mvar_i\u001b[0m\u001b[0;34m]\u001b[0m\u001b[0;34m,\u001b[0m \u001b[0mleft\u001b[0m\u001b[0;34m,\u001b[0m \u001b[0mright\u001b[0m\u001b[0;34m)\u001b[0m\u001b[0;34m\u001b[0m\u001b[0m\n\u001b[1;32m    104\u001b[0m             \u001b[0mscore\u001b[0m \u001b[0;34m=\u001b[0m \u001b[0mget_score\u001b[0m\u001b[0;34m(\u001b[0m\u001b[0mleft\u001b[0m\u001b[0;34m,\u001b[0m \u001b[0mright\u001b[0m\u001b[0;34m)\u001b[0m\u001b[0;34m\u001b[0m\u001b[0m\n",
      "\u001b[0;31mTypeError\u001b[0m: iter() returned non-iterator of type 'Data'"
     ]
    }
   ],
   "source": [
    "import pandas as pd\n",
    "\n",
    "class Data(object):\n",
    "    __class_description__ = \"\"\"Class modelling Data a Binary Tree based on Pandas DataFrame\"\"\"\n",
    "    __version__ = 0.1\n",
    "\n",
    "    def __init__(self, df, class_var, var_desc):  # , first=True):\n",
    "        self.df = df.copy()\n",
    "        # self.df.dropna(inplace=True)\n",
    "\n",
    "        # Dict with the info of input variables\n",
    "        self.var_desc = var_desc\n",
    "        self.class_var = class_var\n",
    "\n",
    "        # This is here because we need a persistent way of traversing the variables (for the iterators)\n",
    "        self.input_vars = list(self.var_desc.keys())\n",
    "\n",
    "        self.iter_i = [None, None]\n",
    "        self.iter_var = None\n",
    "        self.iter_idx = [None]\n",
    "\n",
    "    def sort_by(self, col_name):\n",
    "        self.df = self.df.sort_values(col_name)\n",
    "\n",
    "        if self.var_desc[col_name][\"type\"] == 'cir':\n",
    "            start = self.var_desc[col_name][\"bounds\"][0][0]\n",
    "            end = self.var_desc[col_name][\"bounds\"][-1][1]\n",
    "\n",
    "            if start > end:\n",
    "                self.df = self.df.query('{} <= {} <= 360.0'.format(start, col_name)).copy().append(\n",
    "                    self.df.query('0.0 <= {} < {}'.format(col_name, end)).copy())\n",
    "\n",
    "        self.df.index = range(0, len(self.df.index))\n",
    "\n",
    "    def __iter__(self):\n",
    "\n",
    "        self.iter_var = 0\n",
    "\n",
    "        if self.var_desc[self.input_vars[self.iter_var]][\"method\"] == \"classic\":\n",
    "            if self.var_desc[self.input_vars[self.iter_var]][\"type\"] == \"cir\" and self.var_desc[self.input_vars[self.iter_var]][\"bounds\"] == [[-np.inf, np.inf]]:\n",
    "                self.iter_i = [0, 0]\n",
    "            else:\n",
    "                self.iter_i = [None, 0]\n",
    "        elif self.var_desc[self.input_vars[self.iter_var]][\"method\"] == \"subset\":\n",
    "            self.iter_i = [0, 0]\n",
    "        else:\n",
    "            raise Exception(\"Method not recognised.\")\n",
    "\n",
    "        self.sort_by(self.input_vars[self.iter_var])\n",
    "        self.iter_idx = np.where(self.df[self.input_vars[self.iter_var]].values[:-1] !=\n",
    "                                 self.df[self.input_vars[self.iter_var]].values[1:])[0] + 1\n",
    "\n",
    "        return self\n",
    "\n",
    "    def __next__(self):\n",
    "        found = False\n",
    "\n",
    "        while not found:\n",
    "            self.iter_i[1] += 1\n",
    "\n",
    "            # == modified to >=\n",
    "            # if sequence is all constant self.iter_i[1] == 1 doesn't match len(self.iter_idx) == 0\n",
    "            if self.iter_i[1] >= len(self.iter_idx):\n",
    "                if self.iter_i[0] is None or self.iter_i[0] >= len(self.iter_idx)-1:\n",
    "                    if self.iter_var < len(self.input_vars):\n",
    "                        self.iter_var += 1\n",
    "                        if self.iter_var == len(self.input_vars):\n",
    "                            raise StopIteration\n",
    "                        else:\n",
    "                            if self.var_desc[self.input_vars[self.iter_var]][\"method\"] == \"classic\":\n",
    "                                if self.var_desc[self.input_vars[self.iter_var]][\"type\"] == \"cir\" and self.var_desc[self.input_vars[self.iter_var]][\"bounds\"] == [[-np.inf, np.inf]]:\n",
    "                                    self.iter_i = [0, 0]\n",
    "                                else:\n",
    "                                    self.iter_i = [None, 0]\n",
    "                            elif self.var_desc[self.input_vars[self.iter_var]][\"method\"] == \"subset\":\n",
    "                                self.iter_i = [0, 0]\n",
    "                            self.sort_by(self.input_vars[self.iter_var])\n",
    "                            self.iter_idx = np.where(self.df[self.input_vars[self.iter_var]].values[:-1] !=\n",
    "                                                     self.df[self.input_vars[self.iter_var]].values[1:])[0] + 1\n",
    "                else:\n",
    "                    self.iter_i[0] += 1\n",
    "                    self.iter_i[1] = self.iter_i[0]\n",
    "                    self.iter_idx = np.where(self.df[self.input_vars[self.iter_var]].values[:-1] !=\n",
    "                                             self.df[self.input_vars[self.iter_var]].values[1:])[0] + 1\n",
    "\n",
    "            else:\n",
    "                found = True\n",
    "\n",
    "        if self.iter_i[0] is None:\n",
    "            return (self.iter_var, [None, self.iter_idx[self.iter_i[1]]],\n",
    "                    self.df.iloc[:self.iter_idx[self.iter_i[1]]][self.class_var].values,\n",
    "                    self.df.iloc[self.iter_idx[self.iter_i[1]]:][self.class_var].values)\n",
    "        else:\n",
    "            return (self.iter_var, [self.iter_idx[self.iter_i[0]], self.iter_idx[self.iter_i[1]]],\n",
    "                    self.df.iloc[self.iter_idx[self.iter_i[0]]:self.iter_idx[self.iter_i[1]]][self.class_var].values,\n",
    "                    np.concatenate((self.df.iloc[:self.iter_idx[self.iter_i[0]]][self.class_var].values,\n",
    "                                    self.df.iloc[self.iter_idx[self.iter_i[1]]:][self.class_var].values)))\n",
    "\n",
    "    def get_best_split(self):\n",
    "        best_split = {'var_name': None, 'score': 0.0, 'index': [None, 0]}\n",
    "\n",
    "        for (var_i, i, left, right) in self:\n",
    "            print(self.input_vars[var_i], left, right)\n",
    "            score = get_score(left, right)\n",
    "            if score > best_split['score']:\n",
    "                best_split.update({'var_name': self.input_vars[var_i], 'score': score, 'index': i[:]})\n",
    "\n",
    "        #print(best_split)\n",
    "\n",
    "        return best_split\n",
    "\n",
    "lin_group = []\n",
    "cir_group = ['prec', 'tilt']\n",
    "class_var = 'rad'\n",
    "\n",
    "var_desc = {}\n",
    "for lin_var in lin_group:\n",
    "    var_desc[lin_var] = {\"type\": \"lin\", \"method\": \"classic\", \"bounds\": [[-np.inf, np.inf]]}\n",
    "\n",
    "for cir_var in cir_group:\n",
    "    var_desc[cir_var] = {\"type\": \"lin\", \"method\": \"classic\", \"bounds\": [[-np.inf, np.inf]]}\n",
    "    \n",
    "d = Data(df, class_var, var_desc)\n",
    "\n",
    "d.get_best_split()"
   ]
  },
  {
   "cell_type": "code",
   "execution_count": 49,
   "metadata": {
    "collapsed": false
   },
   "outputs": [
    {
     "name": "stdout",
     "output_type": "stream",
     "text": [
      "(array([0, 0, 0, 0, 0, 1, 1, 1, 1, 1]), array([2, 2, 2, 2, 2, 3, 3, 3, 3, 3, 3, 3, 3, 3, 4, 4, 5, 5, 5]))\n",
      "(array([0, 0, 0, 0, 0, 1, 1, 1, 1, 1, 2, 2, 2, 2, 2]), array([3, 3, 3, 3, 3, 3, 3, 3, 3, 4, 4, 5, 5, 5]))\n",
      "(array([0, 0, 0, 0, 0, 1, 1, 1, 1, 1, 2, 2, 2, 2, 2, 3, 3, 3, 3, 3, 3, 3, 3,\n",
      "       3]), array([4, 4, 5, 5, 5]))\n",
      "-------\n",
      "(array([0, 0, 0, 0, 0, 1, 1, 1, 1, 1]), array([2, 2, 2, 2, 2, 3, 3, 3, 3, 3, 3, 3, 3, 3, 4, 4, 5, 5, 5]))\n",
      "(array([0, 0, 0, 0, 0, 1, 1, 1, 1, 1, 2, 2, 2, 2, 2]), array([3, 3, 3, 3, 3, 3, 3, 3, 3, 4, 4, 5, 5, 5]))\n",
      "(array([0, 0, 0, 0, 0, 1, 1, 1, 1, 1, 2, 2, 2, 2, 2, 3, 3, 3, 3, 3, 3, 3, 3,\n",
      "       3]), array([4, 4, 5, 5, 5]))\n",
      "(array([1, 1, 1, 1, 1]), array([0, 0, 0, 0, 0, 2, 2, 2, 2, 2, 3, 3, 3, 3, 3, 3, 3, 3, 3, 4, 4, 5, 5,\n",
      "       5]))\n",
      "(array([1, 1, 1, 1, 1, 2, 2, 2, 2, 2]), array([0, 0, 0, 0, 0, 3, 3, 3, 3, 3, 3, 3, 3, 3, 4, 4, 5, 5, 5]))\n",
      "(array([1, 1, 1, 1, 1, 2, 2, 2, 2, 2, 3, 3, 3, 3, 3, 3, 3, 3, 3]), array([0, 0, 0, 0, 0, 4, 4, 5, 5, 5]))\n",
      "(array([2, 2, 2, 2, 2]), array([0, 0, 0, 0, 0, 1, 1, 1, 1, 1, 3, 3, 3, 3, 3, 3, 3, 3, 3, 4, 4, 5, 5,\n",
      "       5]))\n",
      "(array([2, 2, 2, 2, 2, 3, 3, 3, 3, 3, 3, 3, 3, 3]), array([0, 0, 0, 0, 0, 1, 1, 1, 1, 1, 4, 4, 5, 5, 5]))\n",
      "(array([3, 3, 3, 3, 3, 3, 3, 3, 3]), array([0, 0, 0, 0, 0, 1, 1, 1, 1, 1, 2, 2, 2, 2, 2, 4, 4, 5, 5, 5]))\n"
     ]
    }
   ],
   "source": [
    "a = np.array([0,0,0,0,0,1,1,1,1,1,2,2,2,2,2,3,3,3,3,3,3,3,3,3,4,4,5,5,5])\n",
    "a_idx = np.where(a[:-1] != a[1:])[0] + 1\n",
    "a_idx = np.insert(a_idx, 0, 0)\n",
    "a_idx = np.insert(a_idx, a_idx.shape[0], a.shape[0]-1)\n",
    "\n",
    "\n",
    "for idx in a_idx[2:-2]:\n",
    "    print(a[:idx], a[idx:])\n",
    " \n",
    "print(\"-------\")\n",
    "\n",
    "for idx0 in a_idx:\n",
    "    for idx1 in a_idx[2:-2]:\n",
    "        if idx1 > idx0 and (idx0 != 0 or idx1 != a.shape[0]-1):\n",
    "            print(a[idx0:idx1], np.concatenate((a[:idx0], a[idx1:])))"
   ]
  },
  {
   "cell_type": "code",
   "execution_count": null,
   "metadata": {
    "collapsed": true
   },
   "outputs": [],
   "source": []
  }
 ],
 "metadata": {
  "kernelspec": {
   "display_name": "Python 2",
   "language": "python",
   "name": "python2"
  },
  "language_info": {
   "codemirror_mode": {
    "name": "ipython",
    "version": 2
   },
   "file_extension": ".py",
   "mimetype": "text/x-python",
   "name": "python",
   "nbconvert_exporter": "python",
   "pygments_lexer": "ipython2",
   "version": "2.7.11"
  }
 },
 "nbformat": 4,
 "nbformat_minor": 0
}

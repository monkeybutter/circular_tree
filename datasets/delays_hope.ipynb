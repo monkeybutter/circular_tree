{
 "cells": [
  {
   "cell_type": "code",
   "execution_count": 58,
   "metadata": {
    "collapsed": false
   },
   "outputs": [],
   "source": [
    "import pandas as pd\n",
    "\n",
    "df = pd.read_csv(\"/Users/pablo/Downloads/2008.csv\")\n",
    "df = df[df[\"Dest\"] == 'JFK']\n",
    "df[\"Date\"] = pd.to_datetime(df.Year*100000000+df.Month*1000000+df.DayofMonth*10000+df.CRSArrTime, format='%Y%m%d%H%M')\n",
    "#df[\"Date\"] = pd.to_datetime(\"{y}{m:02d}{d:02d}\".format(y=df.Year, m=df.Month, d=df.DayofMonth), format='%Y%m%d')\n",
    "drop_list = [\"FlightNum\", \"DepTime\", \"ArrTime\", \"UniqueCarrier\", \"FlightNum\", \"Cancelled\", \n",
    "             \"CancellationCode\", \"Diverted\", \"TailNum\", \"ActualElapsedTime\", \"AirTime\", \n",
    "             \"TaxiIn\", \"TaxiOut\", \"CRSDepTime\", \"DepDelay\", \"CarrierDelay\", \"WeatherDelay\", \n",
    "             \"NASDelay\", \"SecurityDelay\", \"LateAircraftDelay\", \"CRSElapsedTime\",\n",
    "             \"Year\", \"Month\", \"DayofMonth\", \"CRSArrTime\"]\n",
    "\n",
    "df.drop(drop_list, axis=1, inplace=True)\n",
    "\n",
    "df.dropna(axis=0, inplace=True)\n",
    "df['ctime'] = df['Date'].map(lambda x: (x.hour / 24.0) * 360)\n",
    "df['cwday'] = df['DayOfWeek'].map(lambda x: int(x / 7.0 * 360)%360)\n",
    "df['cdate'] = df['Date'].map(lambda x: (x.timetuple().tm_yday / 365.0)*360.0)\n",
    "df['cdate'] = df['cdate'].map(lambda x: int(10 * round(float(x)/10)))\n",
    "df.drop([\"DayOfWeek\", \"Origin\", \"Dest\", \"Date\"], axis=1, inplace=True)\n",
    "df = df[df[\"ArrDelay\"] > 0]"
   ]
  },
  {
   "cell_type": "code",
   "execution_count": 59,
   "metadata": {
    "collapsed": false
   },
   "outputs": [
    {
     "data": {
      "text/html": [
       "<div>\n",
       "<table border=\"1\" class=\"dataframe\">\n",
       "  <thead>\n",
       "    <tr style=\"text-align: right;\">\n",
       "      <th></th>\n",
       "      <th>ArrDelay</th>\n",
       "      <th>Distance</th>\n",
       "      <th>ctime</th>\n",
       "      <th>cwday</th>\n",
       "      <th>cdate</th>\n",
       "    </tr>\n",
       "  </thead>\n",
       "  <tbody>\n",
       "    <tr>\n",
       "      <th>129224</th>\n",
       "      <td>17</td>\n",
       "      <td>541</td>\n",
       "      <td>165</td>\n",
       "      <td>102</td>\n",
       "      <td>0</td>\n",
       "    </tr>\n",
       "    <tr>\n",
       "      <th>129920</th>\n",
       "      <td>37</td>\n",
       "      <td>541</td>\n",
       "      <td>165</td>\n",
       "      <td>154</td>\n",
       "      <td>0</td>\n",
       "    </tr>\n",
       "    <tr>\n",
       "      <th>129921</th>\n",
       "      <td>55</td>\n",
       "      <td>541</td>\n",
       "      <td>225</td>\n",
       "      <td>154</td>\n",
       "      <td>0</td>\n",
       "    </tr>\n",
       "    <tr>\n",
       "      <th>129922</th>\n",
       "      <td>22</td>\n",
       "      <td>541</td>\n",
       "      <td>330</td>\n",
       "      <td>154</td>\n",
       "      <td>0</td>\n",
       "    </tr>\n",
       "    <tr>\n",
       "      <th>130667</th>\n",
       "      <td>17</td>\n",
       "      <td>541</td>\n",
       "      <td>165</td>\n",
       "      <td>205</td>\n",
       "      <td>0</td>\n",
       "    </tr>\n",
       "  </tbody>\n",
       "</table>\n",
       "</div>"
      ],
      "text/plain": [
       "        ArrDelay  Distance  ctime  cwday  cdate\n",
       "129224        17       541    165    102      0\n",
       "129920        37       541    165    154      0\n",
       "129921        55       541    225    154      0\n",
       "129922        22       541    330    154      0\n",
       "130667        17       541    165    205      0"
      ]
     },
     "execution_count": 59,
     "metadata": {},
     "output_type": "execute_result"
    }
   ],
   "source": [
    "df.to_csv(\"/Users/pablo/github/circular_tree/datasets/delays_hope.csv\", index=False)\n",
    "\n",
    "df.head()"
   ]
  },
  {
   "cell_type": "code",
   "execution_count": 147,
   "metadata": {
    "collapsed": false
   },
   "outputs": [
    {
     "name": "stdout",
     "output_type": "stream",
     "text": [
      "[   0.   45.   90. ...,  225.  270.  315.]\n",
      "[0 0 0 ..., 0 0 0]\n",
      "   0    1  2         3\n",
      "0  0    0  0  4.800000\n",
      "1  0   45  0  4.565662\n",
      "2  0   90  0  3.999907\n",
      "3  0  135  0  3.434106\n",
      "4  0  180  0  3.199630\n"
     ]
    },
    {
     "data": {
      "image/png": "[encoded data removed]",
      "text/plain": [
       "<matplotlib.figure.Figure at 0x11b394810>"
      ]
     },
     "metadata": {},
     "output_type": "display_data"
    }
   ],
   "source": [
    "%matplotlib inline\n",
    "\n",
    "import matplotlib.pyplot as plt\n",
    "import numpy as np\n",
    "import pandas as pd\n",
    "\n",
    "def get_wave(f, A, points):\n",
    "    t = np.arange(0, points, 1)\n",
    "    x = t * f\n",
    "    phi = np.pi/2\n",
    "    y = A * np.sin(2 * np.pi * x/points + phi)\n",
    "    \n",
    "    return y\n",
    "\n",
    "index = pd.date_range('2015-01-01 00:00:00', '2016-01-01 00:00:00', freq='3h')[:-1]\n",
    "ctime = index.map(lambda x: (x.hour / 24.0) * 360)\n",
    "\n",
    "print ctime\n",
    "\n",
    "cdate = index.map(lambda x: (x.timetuple().tm_yday / 365.0)*360.0) \n",
    "cdate = (10 * np.round(cdate/10)).astype(np.int) % 360\n",
    "\n",
    "cwind = index.map(lambda x: (x.timetuple().tm_yday / 365.0)*360.0) \n",
    "cwind = 2*((10 * np.round(cdate/10)).astype(np.int)) % 360\n",
    "\n",
    "print cdate\n",
    "\n",
    "points = 365 * 8\n",
    "A = 1\n",
    "f = 1\n",
    "\n",
    "t = get_wave(1, 2, ctime.shape[0]) + get_wave(2, 2, ctime.shape[0]) + get_wave(365, .8, ctime.shape[0])\n",
    "\n",
    "stack = np.concatenate([cdate[...,np.newaxis], ctime[...,np.newaxis], \n",
    "                        cwind[...,np.newaxis], t[...,np.newaxis]], axis=1)\n",
    "\n",
    "df = pd.DataFrame(stack)\n",
    "df.to_csv(\"/Users/pablo/github/circular_tree/datasets/false_hope.csv\", \n",
    "          header=['cdate', 'ctime', 'cwind', 't'], index=False)\n",
    "\n",
    "print df.head()\n",
    "plt.plot(np.arange(0, points, 1), t)\n",
    "plt.axis([0, 4000, -4, 4])\n",
    "plt.xlabel('time')\n",
    "plt.ylabel('amplitude')\n",
    "plt.show()"
   ]
  },
  {
   "cell_type": "code",
   "execution_count": null,
   "metadata": {
    "collapsed": true
   },
   "outputs": [],
   "source": []
  }
 ],
 "metadata": {
  "kernelspec": {
   "display_name": "Python 2",
   "language": "python",
   "name": "python2"
  },
  "language_info": {
   "codemirror_mode": {
    "name": "ipython",
    "version": 2
   },
   "file_extension": ".py",
   "mimetype": "text/x-python",
   "name": "python",
   "nbconvert_exporter": "python",
   "pygments_lexer": "ipython2",
   "version": "2.7.11"
  }
 },
 "nbformat": 4,
 "nbformat_minor": 0
}
